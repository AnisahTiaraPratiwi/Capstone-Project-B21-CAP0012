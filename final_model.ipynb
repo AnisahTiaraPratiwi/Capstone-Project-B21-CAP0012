{
 "cells": [
  {
   "cell_type": "code",
   "execution_count": 1,
   "metadata": {},
   "outputs": [],
   "source": [
    "import tensorflow as tf\n",
    "import pandas as pd \n",
    "import numpy as np\n",
    "\n",
    "physical_device = tf.config.list_physical_devices(\"GPU\")\n",
    "tf.config.experimental.set_memory_growth(physical_device[0], True)"
   ]
  },
  {
   "cell_type": "markdown",
   "metadata": {},
   "source": [
    "# Load the data"
   ]
  },
  {
   "cell_type": "code",
   "execution_count": 2,
   "metadata": {},
   "outputs": [],
   "source": [
    "df = pd.read_csv('mod_data_training_ys_4.csv')"
   ]
  },
  {
   "cell_type": "code",
   "execution_count": 3,
   "metadata": {},
   "outputs": [
    {
     "name": "stdout",
     "output_type": "stream",
     "text": [
      "<class 'pandas.core.frame.DataFrame'>\n",
      "RangeIndex: 1461 entries, 0 to 1460\n",
      "Data columns (total 9 columns):\n",
      " #   Column                    Non-Null Count  Dtype  \n",
      "---  ------                    --------------  -----  \n",
      " 0   date                      1460 non-null   object \n",
      " 1   river_level_max           1460 non-null   float64\n",
      " 2   rainfall                  1460 non-null   float64\n",
      " 3   sunshine_duration         1460 non-null   float64\n",
      " 4   temperature_avg           1460 non-null   float64\n",
      " 5   wind_speed_avg            1460 non-null   float64\n",
      " 6   humidity_avg              1460 non-null   float64\n",
      " 7   condition                 1460 non-null   float64\n",
      " 8   river_level_max_tomorrow  1460 non-null   float64\n",
      "dtypes: float64(8), object(1)\n",
      "memory usage: 102.9+ KB\n"
     ]
    }
   ],
   "source": [
    "df.info()"
   ]
  },
  {
   "cell_type": "code",
   "execution_count": 4,
   "metadata": {},
   "outputs": [
    {
     "data": {
      "text/plain": [
       "date                        1\n",
       "river_level_max             1\n",
       "rainfall                    1\n",
       "sunshine_duration           1\n",
       "temperature_avg             1\n",
       "wind_speed_avg              1\n",
       "humidity_avg                1\n",
       "condition                   1\n",
       "river_level_max_tomorrow    1\n",
       "dtype: int64"
      ]
     },
     "execution_count": 4,
     "metadata": {},
     "output_type": "execute_result"
    }
   ],
   "source": [
    "df.isna().sum()"
   ]
  },
  {
   "cell_type": "code",
   "execution_count": 5,
   "metadata": {},
   "outputs": [],
   "source": [
    "df.dropna(inplace=True)\n",
    "#df"
   ]
  },
  {
   "cell_type": "code",
   "execution_count": 6,
   "metadata": {},
   "outputs": [
    {
     "data": {
      "text/html": [
       "<div>\n",
       "<style scoped>\n",
       "    .dataframe tbody tr th:only-of-type {\n",
       "        vertical-align: middle;\n",
       "    }\n",
       "\n",
       "    .dataframe tbody tr th {\n",
       "        vertical-align: top;\n",
       "    }\n",
       "\n",
       "    .dataframe thead th {\n",
       "        text-align: right;\n",
       "    }\n",
       "</style>\n",
       "<table border=\"1\" class=\"dataframe\">\n",
       "  <thead>\n",
       "    <tr style=\"text-align: right;\">\n",
       "      <th></th>\n",
       "      <th>river_level_max</th>\n",
       "      <th>rainfall</th>\n",
       "      <th>sunshine_duration</th>\n",
       "      <th>temperature_avg</th>\n",
       "      <th>wind_speed_avg</th>\n",
       "      <th>humidity_avg</th>\n",
       "      <th>condition</th>\n",
       "      <th>river_level_max_tomorrow</th>\n",
       "    </tr>\n",
       "  </thead>\n",
       "  <tbody>\n",
       "    <tr>\n",
       "      <th>count</th>\n",
       "      <td>1460.000000</td>\n",
       "      <td>1460.000000</td>\n",
       "      <td>1460.000000</td>\n",
       "      <td>1460.000000</td>\n",
       "      <td>1460.000000</td>\n",
       "      <td>1460.000000</td>\n",
       "      <td>1460.000000</td>\n",
       "      <td>1460.000000</td>\n",
       "    </tr>\n",
       "    <tr>\n",
       "      <th>mean</th>\n",
       "      <td>89.458442</td>\n",
       "      <td>5.334110</td>\n",
       "      <td>5.981918</td>\n",
       "      <td>28.751096</td>\n",
       "      <td>2.204795</td>\n",
       "      <td>75.821233</td>\n",
       "      <td>0.160959</td>\n",
       "      <td>89.397163</td>\n",
       "    </tr>\n",
       "    <tr>\n",
       "      <th>std</th>\n",
       "      <td>85.980059</td>\n",
       "      <td>15.295454</td>\n",
       "      <td>2.908333</td>\n",
       "      <td>0.895150</td>\n",
       "      <td>0.893111</td>\n",
       "      <td>5.651905</td>\n",
       "      <td>0.564651</td>\n",
       "      <td>86.011929</td>\n",
       "    </tr>\n",
       "    <tr>\n",
       "      <th>min</th>\n",
       "      <td>0.000000</td>\n",
       "      <td>0.000000</td>\n",
       "      <td>0.000000</td>\n",
       "      <td>24.900000</td>\n",
       "      <td>0.000000</td>\n",
       "      <td>58.000000</td>\n",
       "      <td>0.000000</td>\n",
       "      <td>0.000000</td>\n",
       "    </tr>\n",
       "    <tr>\n",
       "      <th>25%</th>\n",
       "      <td>71.084677</td>\n",
       "      <td>0.100000</td>\n",
       "      <td>3.900000</td>\n",
       "      <td>28.200000</td>\n",
       "      <td>2.000000</td>\n",
       "      <td>72.000000</td>\n",
       "      <td>0.000000</td>\n",
       "      <td>71.000000</td>\n",
       "    </tr>\n",
       "    <tr>\n",
       "      <th>50%</th>\n",
       "      <td>89.467711</td>\n",
       "      <td>0.600000</td>\n",
       "      <td>6.600000</td>\n",
       "      <td>28.800000</td>\n",
       "      <td>2.000000</td>\n",
       "      <td>76.000000</td>\n",
       "      <td>0.000000</td>\n",
       "      <td>89.467711</td>\n",
       "    </tr>\n",
       "    <tr>\n",
       "      <th>75%</th>\n",
       "      <td>92.000000</td>\n",
       "      <td>1.925000</td>\n",
       "      <td>8.300000</td>\n",
       "      <td>29.400000</td>\n",
       "      <td>3.000000</td>\n",
       "      <td>80.000000</td>\n",
       "      <td>0.000000</td>\n",
       "      <td>92.000000</td>\n",
       "    </tr>\n",
       "    <tr>\n",
       "      <th>max</th>\n",
       "      <td>1292.000000</td>\n",
       "      <td>155.500000</td>\n",
       "      <td>11.600000</td>\n",
       "      <td>31.400000</td>\n",
       "      <td>7.000000</td>\n",
       "      <td>94.000000</td>\n",
       "      <td>3.000000</td>\n",
       "      <td>1292.000000</td>\n",
       "    </tr>\n",
       "  </tbody>\n",
       "</table>\n",
       "</div>"
      ],
      "text/plain": [
       "       river_level_max     rainfall  sunshine_duration  temperature_avg  \\\n",
       "count      1460.000000  1460.000000        1460.000000      1460.000000   \n",
       "mean         89.458442     5.334110           5.981918        28.751096   \n",
       "std          85.980059    15.295454           2.908333         0.895150   \n",
       "min           0.000000     0.000000           0.000000        24.900000   \n",
       "25%          71.084677     0.100000           3.900000        28.200000   \n",
       "50%          89.467711     0.600000           6.600000        28.800000   \n",
       "75%          92.000000     1.925000           8.300000        29.400000   \n",
       "max        1292.000000   155.500000          11.600000        31.400000   \n",
       "\n",
       "       wind_speed_avg  humidity_avg    condition  river_level_max_tomorrow  \n",
       "count     1460.000000   1460.000000  1460.000000               1460.000000  \n",
       "mean         2.204795     75.821233     0.160959                 89.397163  \n",
       "std          0.893111      5.651905     0.564651                 86.011929  \n",
       "min          0.000000     58.000000     0.000000                  0.000000  \n",
       "25%          2.000000     72.000000     0.000000                 71.000000  \n",
       "50%          2.000000     76.000000     0.000000                 89.467711  \n",
       "75%          3.000000     80.000000     0.000000                 92.000000  \n",
       "max          7.000000     94.000000     3.000000               1292.000000  "
      ]
     },
     "execution_count": 6,
     "metadata": {},
     "output_type": "execute_result"
    }
   ],
   "source": [
    "df.describe()"
   ]
  },
  {
   "cell_type": "code",
   "execution_count": 7,
   "metadata": {},
   "outputs": [],
   "source": [
    "target_column = 'river_level_max'\n",
    "feature_columns = ['rainfall', 'sunshine_duration',\n",
    "                   'temperature_avg', 'wind_speed_avg',\t'humidity_avg']"
   ]
  },
  {
   "cell_type": "markdown",
   "metadata": {},
   "source": [
    "# Normalisasi"
   ]
  },
  {
   "cell_type": "markdown",
   "metadata": {},
   "source": [
    "df.loc[:, feature_columns] = ((df[feature_columns] - df[feature_columns].min())/ \n",
    "                              (df[feature_columns].max() - df[feature_columns].min()))\n",
    "\n",
    "df[feature_columns].describe()"
   ]
  },
  {
   "cell_type": "markdown",
   "metadata": {},
   "source": [
    "# Train & test split"
   ]
  },
  {
   "cell_type": "code",
   "execution_count": 8,
   "metadata": {},
   "outputs": [
    {
     "name": "stdout",
     "output_type": "stream",
     "text": [
      "Number of training data =  1446\n",
      "Number of testing data =  14\n"
     ]
    }
   ],
   "source": [
    "# Shuffle\n",
    "df = df.sample(frac=1)\n",
    "\n",
    "# Calculate test set size\n",
    "test_set_size = int(len(df) * 0.01)\n",
    "\n",
    "# Split the data\n",
    "testing_df = df[:test_set_size]\n",
    "training_df = df[test_set_size:]\n",
    "\n",
    "print(\"Number of training data = \", len(training_df))\n",
    "print(\"Number of testing data = \", len(testing_df))"
   ]
  },
  {
   "cell_type": "code",
   "execution_count": 9,
   "metadata": {},
   "outputs": [],
   "source": [
    "train_features = np.asarray(training_df[feature_columns])\n",
    "test_features = np.asarray(testing_df[feature_columns])\n",
    "\n",
    "train_label = np.asarray(training_df[target_column])\n",
    "test_label = np.asarray(testing_df[target_column])"
   ]
  },
  {
   "cell_type": "markdown",
   "metadata": {},
   "source": [
    "# Simple DNN model"
   ]
  },
  {
   "cell_type": "code",
   "execution_count": 10,
   "metadata": {},
   "outputs": [
    {
     "name": "stdout",
     "output_type": "stream",
     "text": [
      "Model: \"sequential\"\n",
      "_________________________________________________________________\n",
      "Layer (type)                 Output Shape              Param #   \n",
      "=================================================================\n",
      "dense (Dense)                (None, 16)                96        \n",
      "_________________________________________________________________\n",
      "dense_1 (Dense)              (None, 32)                544       \n",
      "_________________________________________________________________\n",
      "dense_2 (Dense)              (None, 64)                2112      \n",
      "_________________________________________________________________\n",
      "dropout (Dropout)            (None, 64)                0         \n",
      "_________________________________________________________________\n",
      "dense_3 (Dense)              (None, 1)                 65        \n",
      "=================================================================\n",
      "Total params: 2,817\n",
      "Trainable params: 2,817\n",
      "Non-trainable params: 0\n",
      "_________________________________________________________________\n"
     ]
    }
   ],
   "source": [
    "model = tf.keras.Sequential([\n",
    "    tf.keras.layers.Dense(16, activation='relu', input_shape=(5,)),\n",
    "    tf.keras.layers.Dense(32, activation='relu'),\n",
    "    tf.keras.layers.Dense(64, activation='relu'),\n",
    "    tf.keras.layers.Dropout(0.1),\n",
    "    tf.keras.layers.Dense(1),\n",
    "])\n",
    "\n",
    "model.summary()"
   ]
  },
  {
   "cell_type": "code",
   "execution_count": 11,
   "metadata": {},
   "outputs": [],
   "source": [
    "optimizer = tf.keras.optimizers.SGD(lr=1e-5, momentum=0.9)\n",
    "model.compile(optimizer=optimizer, loss=tf.keras.losses.Huber(), metrics=[\"mae\"])"
   ]
  },
  {
   "cell_type": "markdown",
   "metadata": {},
   "source": [
    "# Training the model"
   ]
  },
  {
   "cell_type": "code",
   "execution_count": 12,
   "metadata": {},
   "outputs": [
    {
     "name": "stdout",
     "output_type": "stream",
     "text": [
      "Epoch 1/300\n",
      "66/66 [==============================] - 2s 16ms/step - loss: 73.3847 - mae: 73.8846 - val_loss: 47.0125 - val_mae: 47.5120\n",
      "Epoch 2/300\n",
      "66/66 [==============================] - 0s 5ms/step - loss: 43.2842 - mae: 43.7788 - val_loss: 34.8957 - val_mae: 35.3872\n",
      "Epoch 3/300\n",
      "66/66 [==============================] - 0s 5ms/step - loss: 40.2715 - mae: 40.7665 - val_loss: 34.7466 - val_mae: 35.2393\n",
      "Epoch 4/300\n",
      "66/66 [==============================] - 0s 6ms/step - loss: 38.3000 - mae: 38.7935 - val_loss: 34.6394 - val_mae: 35.1295\n",
      "Epoch 5/300\n",
      "66/66 [==============================] - 0s 5ms/step - loss: 40.0603 - mae: 40.5522 - val_loss: 34.5383 - val_mae: 35.0282\n",
      "Epoch 6/300\n",
      "66/66 [==============================] - 0s 5ms/step - loss: 39.4247 - mae: 39.9186 - val_loss: 34.6218 - val_mae: 35.1203\n",
      "Epoch 7/300\n",
      "66/66 [==============================] - 0s 6ms/step - loss: 39.1441 - mae: 39.6385 - val_loss: 34.3370 - val_mae: 34.8308\n",
      "Epoch 8/300\n",
      "66/66 [==============================] - 0s 5ms/step - loss: 37.6554 - mae: 38.1504 - val_loss: 34.1808 - val_mae: 34.6734\n",
      "Epoch 9/300\n",
      "66/66 [==============================] - 0s 5ms/step - loss: 39.2697 - mae: 39.7620 - val_loss: 34.0867 - val_mae: 34.5768\n",
      "Epoch 10/300\n",
      "66/66 [==============================] - 0s 5ms/step - loss: 41.5733 - mae: 42.0683 - val_loss: 34.4642 - val_mae: 34.9567\n",
      "Epoch 11/300\n",
      "66/66 [==============================] - 0s 5ms/step - loss: 38.1622 - mae: 38.6573 - val_loss: 33.9301 - val_mae: 34.4157\n",
      "Epoch 12/300\n",
      "66/66 [==============================] - 0s 5ms/step - loss: 40.2460 - mae: 40.7389 - val_loss: 33.9162 - val_mae: 34.4044\n",
      "Epoch 13/300\n",
      "66/66 [==============================] - 0s 5ms/step - loss: 39.8590 - mae: 40.3498 - val_loss: 34.0035 - val_mae: 34.4909\n",
      "Epoch 14/300\n",
      "66/66 [==============================] - 0s 5ms/step - loss: 40.0032 - mae: 40.4967 - val_loss: 33.8072 - val_mae: 34.2875\n",
      "Epoch 15/300\n",
      "66/66 [==============================] - 0s 5ms/step - loss: 36.7149 - mae: 37.2067 - val_loss: 33.7844 - val_mae: 34.2789\n",
      "Epoch 16/300\n",
      "66/66 [==============================] - 0s 5ms/step - loss: 39.4251 - mae: 39.9192 - val_loss: 33.8927 - val_mae: 34.3825\n",
      "Epoch 17/300\n",
      "66/66 [==============================] - 0s 5ms/step - loss: 37.1756 - mae: 37.6680 - val_loss: 33.6918 - val_mae: 34.1723\n",
      "Epoch 18/300\n",
      "66/66 [==============================] - 0s 6ms/step - loss: 36.0201 - mae: 36.5121 - val_loss: 33.9317 - val_mae: 34.4246\n",
      "Epoch 19/300\n",
      "66/66 [==============================] - 0s 5ms/step - loss: 35.8950 - mae: 36.3841 - val_loss: 33.8152 - val_mae: 34.2963\n",
      "Epoch 20/300\n",
      "66/66 [==============================] - 0s 5ms/step - loss: 36.8212 - mae: 37.3138 - val_loss: 33.6655 - val_mae: 34.1546\n",
      "Epoch 21/300\n",
      "66/66 [==============================] - 0s 7ms/step - loss: 35.1572 - mae: 35.6513 - val_loss: 33.7300 - val_mae: 34.2139\n",
      "Epoch 22/300\n",
      "66/66 [==============================] - 0s 6ms/step - loss: 36.0861 - mae: 36.5749 - val_loss: 33.7331 - val_mae: 34.2185\n",
      "Epoch 23/300\n",
      "66/66 [==============================] - 0s 6ms/step - loss: 38.7291 - mae: 39.2187 - val_loss: 33.6693 - val_mae: 34.1601\n",
      "Epoch 24/300\n",
      "66/66 [==============================] - 0s 5ms/step - loss: 35.2897 - mae: 35.7846 - val_loss: 33.5761 - val_mae: 34.0550\n",
      "Epoch 25/300\n",
      "66/66 [==============================] - 0s 6ms/step - loss: 41.8925 - mae: 42.3868 - val_loss: 33.5573 - val_mae: 34.0358\n",
      "Epoch 26/300\n",
      "66/66 [==============================] - 0s 5ms/step - loss: 34.7510 - mae: 35.2436 - val_loss: 33.8734 - val_mae: 34.3632\n",
      "Epoch 27/300\n",
      "66/66 [==============================] - 0s 5ms/step - loss: 34.2614 - mae: 34.7533 - val_loss: 33.9645 - val_mae: 34.4569\n",
      "Epoch 28/300\n",
      "66/66 [==============================] - 0s 6ms/step - loss: 37.3584 - mae: 37.8511 - val_loss: 33.5422 - val_mae: 34.0199\n",
      "Epoch 29/300\n",
      "66/66 [==============================] - 0s 5ms/step - loss: 37.3348 - mae: 37.8261 - val_loss: 33.7645 - val_mae: 34.2519\n",
      "Epoch 30/300\n",
      "66/66 [==============================] - 0s 5ms/step - loss: 35.9415 - mae: 36.4359 - val_loss: 33.8496 - val_mae: 34.3379\n",
      "Epoch 31/300\n",
      "66/66 [==============================] - 0s 6ms/step - loss: 39.2772 - mae: 39.7693 - val_loss: 33.7917 - val_mae: 34.2785\n",
      "Epoch 32/300\n",
      "66/66 [==============================] - 0s 5ms/step - loss: 40.6768 - mae: 41.1710 - val_loss: 33.5396 - val_mae: 34.0147\n",
      "Epoch 33/300\n",
      "66/66 [==============================] - 0s 5ms/step - loss: 40.8707 - mae: 41.3618 - val_loss: 33.5324 - val_mae: 34.0173\n",
      "Epoch 34/300\n",
      "66/66 [==============================] - 0s 6ms/step - loss: 43.0766 - mae: 43.5693 - val_loss: 33.6436 - val_mae: 34.1324\n",
      "Epoch 35/300\n",
      "66/66 [==============================] - 0s 6ms/step - loss: 37.6372 - mae: 38.1296 - val_loss: 33.4847 - val_mae: 33.9687\n",
      "Epoch 36/300\n",
      "66/66 [==============================] - 0s 6ms/step - loss: 38.3609 - mae: 38.8554 - val_loss: 33.4827 - val_mae: 33.9563\n",
      "Epoch 37/300\n",
      "66/66 [==============================] - 0s 7ms/step - loss: 36.3000 - mae: 36.7924 - val_loss: 33.5094 - val_mae: 33.9827\n",
      "Epoch 38/300\n",
      "66/66 [==============================] - 0s 7ms/step - loss: 35.3118 - mae: 35.8040 - val_loss: 33.4542 - val_mae: 33.9332\n",
      "Epoch 39/300\n",
      "66/66 [==============================] - 0s 6ms/step - loss: 37.2815 - mae: 37.7739 - val_loss: 33.4509 - val_mae: 33.9286\n",
      "Epoch 40/300\n",
      "66/66 [==============================] - 0s 6ms/step - loss: 37.7200 - mae: 38.2130 - val_loss: 33.5030 - val_mae: 33.9767\n",
      "Epoch 41/300\n",
      "66/66 [==============================] - 0s 6ms/step - loss: 36.8770 - mae: 37.3680 - val_loss: 33.6534 - val_mae: 34.1427\n",
      "Epoch 42/300\n",
      "66/66 [==============================] - 0s 5ms/step - loss: 38.8227 - mae: 39.3125 - val_loss: 33.6283 - val_mae: 34.1158\n",
      "Epoch 43/300\n",
      "66/66 [==============================] - 0s 5ms/step - loss: 35.6386 - mae: 36.1305 - val_loss: 33.4396 - val_mae: 33.9197\n",
      "Epoch 44/300\n",
      "66/66 [==============================] - 0s 5ms/step - loss: 34.9840 - mae: 35.4765 - val_loss: 33.4212 - val_mae: 33.8987\n",
      "Epoch 45/300\n",
      "66/66 [==============================] - 0s 6ms/step - loss: 38.4541 - mae: 38.9471 - val_loss: 33.5770 - val_mae: 34.0615\n",
      "Epoch 46/300\n",
      "66/66 [==============================] - 0s 6ms/step - loss: 40.1312 - mae: 40.6249 - val_loss: 33.6249 - val_mae: 34.1110\n",
      "Epoch 47/300\n",
      "66/66 [==============================] - 0s 6ms/step - loss: 36.7628 - mae: 37.2545 - val_loss: 33.7401 - val_mae: 34.2256\n",
      "Epoch 48/300\n",
      "66/66 [==============================] - 0s 6ms/step - loss: 37.4985 - mae: 37.9939 - val_loss: 33.9560 - val_mae: 34.4503\n",
      "Epoch 49/300\n",
      "66/66 [==============================] - 0s 5ms/step - loss: 39.1560 - mae: 39.6469 - val_loss: 33.4012 - val_mae: 33.8760\n",
      "Epoch 50/300\n",
      "66/66 [==============================] - 0s 5ms/step - loss: 37.7386 - mae: 38.2273 - val_loss: 33.5545 - val_mae: 34.0371\n",
      "Epoch 51/300\n",
      "66/66 [==============================] - 0s 6ms/step - loss: 38.3420 - mae: 38.8331 - val_loss: 33.4427 - val_mae: 33.9189\n",
      "Epoch 52/300\n",
      "66/66 [==============================] - 0s 6ms/step - loss: 37.4724 - mae: 37.9637 - val_loss: 33.4720 - val_mae: 33.9516\n",
      "Epoch 53/300\n",
      "66/66 [==============================] - 0s 6ms/step - loss: 36.9907 - mae: 37.4849 - val_loss: 33.3784 - val_mae: 33.8549\n",
      "Epoch 54/300\n",
      "66/66 [==============================] - 0s 6ms/step - loss: 37.5500 - mae: 38.0386 - val_loss: 33.5941 - val_mae: 34.0780\n",
      "Epoch 55/300\n",
      "66/66 [==============================] - 0s 6ms/step - loss: 38.5257 - mae: 39.0166 - val_loss: 33.3679 - val_mae: 33.8501\n",
      "Epoch 56/300\n",
      "66/66 [==============================] - 0s 6ms/step - loss: 39.3765 - mae: 39.8678 - val_loss: 33.3637 - val_mae: 33.8389\n",
      "Epoch 57/300\n",
      "66/66 [==============================] - 0s 6ms/step - loss: 38.0630 - mae: 38.5541 - val_loss: 33.6628 - val_mae: 34.1466\n",
      "Epoch 58/300\n",
      "66/66 [==============================] - 0s 6ms/step - loss: 37.0993 - mae: 37.5895 - val_loss: 33.3684 - val_mae: 33.8408\n",
      "Epoch 59/300\n",
      "66/66 [==============================] - 0s 6ms/step - loss: 35.8779 - mae: 36.3660 - val_loss: 33.5967 - val_mae: 34.0791\n",
      "Epoch 60/300\n",
      "66/66 [==============================] - 0s 6ms/step - loss: 40.1827 - mae: 40.6751 - val_loss: 33.5026 - val_mae: 33.9843\n",
      "Epoch 61/300\n"
     ]
    },
    {
     "name": "stdout",
     "output_type": "stream",
     "text": [
      "66/66 [==============================] - 0s 6ms/step - loss: 38.7528 - mae: 39.2446 - val_loss: 33.7542 - val_mae: 34.2453\n",
      "Epoch 62/300\n",
      "66/66 [==============================] - 0s 6ms/step - loss: 36.4640 - mae: 36.9549 - val_loss: 33.9409 - val_mae: 34.4352\n",
      "Epoch 63/300\n",
      "66/66 [==============================] - 0s 6ms/step - loss: 35.5879 - mae: 36.0783 - val_loss: 33.5693 - val_mae: 34.0581\n",
      "Epoch 64/300\n",
      "66/66 [==============================] - 0s 6ms/step - loss: 40.0626 - mae: 40.5558 - val_loss: 33.3482 - val_mae: 33.8232\n",
      "Epoch 65/300\n",
      "66/66 [==============================] - 0s 5ms/step - loss: 35.1603 - mae: 35.6482 - val_loss: 33.3233 - val_mae: 33.8010\n",
      "Epoch 66/300\n",
      "66/66 [==============================] - 0s 5ms/step - loss: 40.0788 - mae: 40.5719 - val_loss: 33.3242 - val_mae: 33.8080\n",
      "Epoch 67/300\n",
      "66/66 [==============================] - 0s 6ms/step - loss: 36.2446 - mae: 36.7306 - val_loss: 33.4646 - val_mae: 33.9457\n",
      "Epoch 68/300\n",
      "66/66 [==============================] - 0s 6ms/step - loss: 38.5763 - mae: 39.0674 - val_loss: 34.1663 - val_mae: 34.6532\n",
      "Epoch 69/300\n",
      "66/66 [==============================] - 0s 5ms/step - loss: 35.5335 - mae: 36.0249 - val_loss: 33.3604 - val_mae: 33.8379\n",
      "Epoch 70/300\n",
      "66/66 [==============================] - 0s 6ms/step - loss: 35.6339 - mae: 36.1232 - val_loss: 33.3457 - val_mae: 33.8256\n",
      "Epoch 71/300\n",
      "66/66 [==============================] - 0s 5ms/step - loss: 36.4643 - mae: 36.9543 - val_loss: 33.2962 - val_mae: 33.7775\n",
      "Epoch 72/300\n",
      "66/66 [==============================] - 0s 5ms/step - loss: 35.3773 - mae: 35.8704 - val_loss: 33.3120 - val_mae: 33.7861\n",
      "Epoch 73/300\n",
      "66/66 [==============================] - 0s 6ms/step - loss: 37.4524 - mae: 37.9408 - val_loss: 33.5715 - val_mae: 34.0510\n",
      "Epoch 74/300\n",
      "66/66 [==============================] - 0s 6ms/step - loss: 36.0017 - mae: 36.4924 - val_loss: 33.2807 - val_mae: 33.7608\n",
      "Epoch 75/300\n",
      "66/66 [==============================] - 0s 6ms/step - loss: 36.5583 - mae: 37.0514 - val_loss: 33.2731 - val_mae: 33.7480\n",
      "Epoch 76/300\n",
      "66/66 [==============================] - 0s 5ms/step - loss: 38.0792 - mae: 38.5679 - val_loss: 33.2732 - val_mae: 33.7553\n",
      "Epoch 77/300\n",
      "66/66 [==============================] - 0s 6ms/step - loss: 38.5133 - mae: 39.0044 - val_loss: 33.2632 - val_mae: 33.7378\n",
      "Epoch 78/300\n",
      "66/66 [==============================] - 0s 6ms/step - loss: 35.8966 - mae: 36.3852 - val_loss: 33.3855 - val_mae: 33.8719\n",
      "Epoch 79/300\n",
      "66/66 [==============================] - 0s 6ms/step - loss: 34.3646 - mae: 34.8539 - val_loss: 33.2710 - val_mae: 33.7530\n",
      "Epoch 80/300\n",
      "66/66 [==============================] - 0s 6ms/step - loss: 36.3241 - mae: 36.8145 - val_loss: 33.3095 - val_mae: 33.7897\n",
      "Epoch 81/300\n",
      "66/66 [==============================] - 0s 6ms/step - loss: 38.1939 - mae: 38.6827 - val_loss: 33.4290 - val_mae: 33.9125\n",
      "Epoch 82/300\n",
      "66/66 [==============================] - 0s 5ms/step - loss: 34.6673 - mae: 35.1598 - val_loss: 33.3725 - val_mae: 33.8488\n",
      "Epoch 83/300\n",
      "66/66 [==============================] - 0s 5ms/step - loss: 36.5174 - mae: 37.0054 - val_loss: 33.2493 - val_mae: 33.7304\n",
      "Epoch 84/300\n",
      "66/66 [==============================] - 0s 5ms/step - loss: 44.0758 - mae: 44.5665 - val_loss: 33.3065 - val_mae: 33.7877\n",
      "Epoch 85/300\n",
      "66/66 [==============================] - 0s 5ms/step - loss: 35.8086 - mae: 36.3010 - val_loss: 33.4033 - val_mae: 33.8877\n",
      "Epoch 86/300\n",
      "66/66 [==============================] - 0s 5ms/step - loss: 39.2087 - mae: 39.7018 - val_loss: 33.2316 - val_mae: 33.7070\n",
      "Epoch 87/300\n",
      "66/66 [==============================] - 0s 6ms/step - loss: 38.0787 - mae: 38.5712 - val_loss: 33.3782 - val_mae: 33.8633\n",
      "Epoch 88/300\n",
      "66/66 [==============================] - 0s 5ms/step - loss: 39.2347 - mae: 39.7249 - val_loss: 33.5847 - val_mae: 34.0730\n",
      "Epoch 89/300\n",
      "66/66 [==============================] - 0s 5ms/step - loss: 38.6500 - mae: 39.1433 - val_loss: 33.3063 - val_mae: 33.7899\n",
      "Epoch 90/300\n",
      "66/66 [==============================] - 0s 6ms/step - loss: 36.3232 - mae: 36.8103 - val_loss: 33.2596 - val_mae: 33.7359\n",
      "Epoch 91/300\n",
      "66/66 [==============================] - 0s 5ms/step - loss: 35.2594 - mae: 35.7496 - val_loss: 33.3349 - val_mae: 33.8206\n",
      "Epoch 92/300\n",
      "66/66 [==============================] - 0s 5ms/step - loss: 37.5171 - mae: 38.0104 - val_loss: 33.2137 - val_mae: 33.6863\n",
      "Epoch 93/300\n",
      "66/66 [==============================] - 0s 5ms/step - loss: 37.3768 - mae: 37.8687 - val_loss: 33.2043 - val_mae: 33.6775\n",
      "Epoch 94/300\n",
      "66/66 [==============================] - 0s 6ms/step - loss: 35.9229 - mae: 36.4107 - val_loss: 33.2356 - val_mae: 33.7097\n",
      "Epoch 95/300\n",
      "66/66 [==============================] - 0s 5ms/step - loss: 40.4288 - mae: 40.9202 - val_loss: 33.1995 - val_mae: 33.6733\n",
      "Epoch 96/300\n",
      "66/66 [==============================] - 0s 5ms/step - loss: 40.7320 - mae: 41.2210 - val_loss: 33.2689 - val_mae: 33.7445\n",
      "Epoch 97/300\n",
      "66/66 [==============================] - 0s 5ms/step - loss: 41.2418 - mae: 41.7327 - val_loss: 33.4555 - val_mae: 33.9441\n",
      "Epoch 98/300\n",
      "66/66 [==============================] - 0s 5ms/step - loss: 38.1849 - mae: 38.6783 - val_loss: 33.3955 - val_mae: 33.8809\n",
      "Epoch 99/300\n",
      "66/66 [==============================] - 0s 5ms/step - loss: 38.9904 - mae: 39.4800 - val_loss: 33.7938 - val_mae: 34.2820\n",
      "Epoch 100/300\n",
      "66/66 [==============================] - 0s 5ms/step - loss: 39.8618 - mae: 40.3542 - val_loss: 33.2437 - val_mae: 33.7158\n",
      "Epoch 101/300\n",
      "66/66 [==============================] - 0s 5ms/step - loss: 36.1706 - mae: 36.6606 - val_loss: 33.1828 - val_mae: 33.6570\n",
      "Epoch 102/300\n",
      "66/66 [==============================] - 0s 6ms/step - loss: 40.5447 - mae: 41.0351 - val_loss: 33.2332 - val_mae: 33.7051\n",
      "Epoch 103/300\n",
      "66/66 [==============================] - 0s 6ms/step - loss: 36.4230 - mae: 36.9150 - val_loss: 33.6724 - val_mae: 34.1590\n",
      "Epoch 104/300\n",
      "66/66 [==============================] - 0s 5ms/step - loss: 33.0921 - mae: 33.5813 - val_loss: 33.3513 - val_mae: 33.8369\n",
      "Epoch 105/300\n",
      "66/66 [==============================] - 0s 5ms/step - loss: 40.2387 - mae: 40.7304 - val_loss: 33.1731 - val_mae: 33.6468\n",
      "Epoch 106/300\n",
      "66/66 [==============================] - 0s 5ms/step - loss: 36.9293 - mae: 37.4185 - val_loss: 33.6504 - val_mae: 34.1360\n",
      "Epoch 107/300\n",
      "66/66 [==============================] - 0s 5ms/step - loss: 38.2985 - mae: 38.7871 - val_loss: 33.1592 - val_mae: 33.6313\n",
      "Epoch 108/300\n",
      "66/66 [==============================] - 0s 5ms/step - loss: 38.5117 - mae: 39.0032 - val_loss: 33.3723 - val_mae: 33.8623\n",
      "Epoch 109/300\n",
      "66/66 [==============================] - 0s 5ms/step - loss: 34.0886 - mae: 34.5776 - val_loss: 33.2521 - val_mae: 33.7320\n",
      "Epoch 110/300\n",
      "66/66 [==============================] - 0s 6ms/step - loss: 36.9261 - mae: 37.4172 - val_loss: 33.2386 - val_mae: 33.7161\n",
      "Epoch 111/300\n",
      "66/66 [==============================] - 0s 5ms/step - loss: 36.3178 - mae: 36.8126 - val_loss: 33.2440 - val_mae: 33.7234\n",
      "Epoch 112/300\n",
      "66/66 [==============================] - 0s 5ms/step - loss: 37.0285 - mae: 37.5217 - val_loss: 33.3331 - val_mae: 33.8224\n",
      "Epoch 113/300\n",
      "66/66 [==============================] - 0s 5ms/step - loss: 37.0588 - mae: 37.5489 - val_loss: 33.3323 - val_mae: 33.8220\n",
      "Epoch 114/300\n",
      "66/66 [==============================] - 0s 5ms/step - loss: 35.3623 - mae: 35.8505 - val_loss: 33.1618 - val_mae: 33.6380\n",
      "Epoch 115/300\n",
      "66/66 [==============================] - 0s 5ms/step - loss: 36.7644 - mae: 37.2581 - val_loss: 33.1480 - val_mae: 33.6123\n",
      "Epoch 116/300\n",
      "66/66 [==============================] - 0s 5ms/step - loss: 37.3764 - mae: 37.8665 - val_loss: 33.1281 - val_mae: 33.5997\n",
      "Epoch 117/300\n",
      "66/66 [==============================] - 0s 5ms/step - loss: 37.4659 - mae: 37.9549 - val_loss: 33.1528 - val_mae: 33.6292\n",
      "Epoch 118/300\n",
      "66/66 [==============================] - 0s 5ms/step - loss: 35.4802 - mae: 35.9728 - val_loss: 33.4753 - val_mae: 33.9684\n",
      "Epoch 119/300\n",
      "66/66 [==============================] - 0s 5ms/step - loss: 37.6656 - mae: 38.1554 - val_loss: 33.3739 - val_mae: 33.8672\n",
      "Epoch 120/300\n",
      "66/66 [==============================] - 0s 6ms/step - loss: 34.1244 - mae: 34.6138 - val_loss: 33.4670 - val_mae: 33.9599\n",
      "Epoch 121/300\n"
     ]
    },
    {
     "name": "stdout",
     "output_type": "stream",
     "text": [
      "66/66 [==============================] - 0s 5ms/step - loss: 37.8654 - mae: 38.3549 - val_loss: 33.2120 - val_mae: 33.6903\n",
      "Epoch 122/300\n",
      "66/66 [==============================] - 0s 6ms/step - loss: 36.8376 - mae: 37.3284 - val_loss: 33.1260 - val_mae: 33.6017\n",
      "Epoch 123/300\n",
      "66/66 [==============================] - 0s 6ms/step - loss: 34.7206 - mae: 35.2119 - val_loss: 33.4775 - val_mae: 33.9697\n",
      "Epoch 124/300\n",
      "66/66 [==============================] - 0s 5ms/step - loss: 36.2080 - mae: 36.7023 - val_loss: 33.1057 - val_mae: 33.5794\n",
      "Epoch 125/300\n",
      "66/66 [==============================] - 0s 5ms/step - loss: 36.0438 - mae: 36.5363 - val_loss: 33.0933 - val_mae: 33.5641\n",
      "Epoch 126/300\n",
      "66/66 [==============================] - 0s 5ms/step - loss: 39.5014 - mae: 39.9925 - val_loss: 33.1015 - val_mae: 33.5662\n",
      "Epoch 127/300\n",
      "66/66 [==============================] - 0s 5ms/step - loss: 38.5671 - mae: 39.0566 - val_loss: 33.0855 - val_mae: 33.5567\n",
      "Epoch 128/300\n",
      "66/66 [==============================] - 0s 5ms/step - loss: 36.5256 - mae: 37.0165 - val_loss: 33.0981 - val_mae: 33.5724\n",
      "Epoch 129/300\n",
      "66/66 [==============================] - 0s 5ms/step - loss: 33.9834 - mae: 34.4763 - val_loss: 33.1408 - val_mae: 33.6152\n",
      "Epoch 130/300\n",
      "66/66 [==============================] - 0s 6ms/step - loss: 38.0577 - mae: 38.5468 - val_loss: 33.2134 - val_mae: 33.6978\n",
      "Epoch 131/300\n",
      "66/66 [==============================] - 0s 6ms/step - loss: 36.2309 - mae: 36.7248 - val_loss: 33.1876 - val_mae: 33.6666\n",
      "Epoch 132/300\n",
      "66/66 [==============================] - 0s 5ms/step - loss: 35.1358 - mae: 35.6285 - val_loss: 33.1428 - val_mae: 33.6203\n",
      "Epoch 133/300\n",
      "66/66 [==============================] - 0s 5ms/step - loss: 41.7568 - mae: 42.2466 - val_loss: 33.0667 - val_mae: 33.5324\n",
      "Epoch 134/300\n",
      "66/66 [==============================] - 0s 6ms/step - loss: 35.0446 - mae: 35.5357 - val_loss: 33.4379 - val_mae: 33.9265\n",
      "Epoch 135/300\n",
      "66/66 [==============================] - 0s 6ms/step - loss: 36.9640 - mae: 37.4523 - val_loss: 33.4049 - val_mae: 33.8932\n",
      "Epoch 136/300\n",
      "66/66 [==============================] - 0s 6ms/step - loss: 36.3377 - mae: 36.8284 - val_loss: 33.0744 - val_mae: 33.5475\n",
      "Epoch 137/300\n",
      "66/66 [==============================] - 0s 6ms/step - loss: 36.5274 - mae: 37.0164 - val_loss: 33.5635 - val_mae: 34.0547\n",
      "Epoch 138/300\n",
      "66/66 [==============================] - 0s 6ms/step - loss: 38.1446 - mae: 38.6336 - val_loss: 33.2575 - val_mae: 33.7499\n",
      "Epoch 139/300\n",
      "66/66 [==============================] - 0s 6ms/step - loss: 35.2202 - mae: 35.7114 - val_loss: 33.1447 - val_mae: 33.6223\n",
      "Epoch 140/300\n",
      "66/66 [==============================] - 0s 5ms/step - loss: 38.1072 - mae: 38.5997 - val_loss: 33.1043 - val_mae: 33.5808\n",
      "Epoch 141/300\n",
      "66/66 [==============================] - 0s 5ms/step - loss: 39.7444 - mae: 40.2339 - val_loss: 33.0399 - val_mae: 33.5121\n",
      "Epoch 142/300\n",
      "66/66 [==============================] - 0s 6ms/step - loss: 40.2032 - mae: 40.6937 - val_loss: 33.4158 - val_mae: 33.9030\n",
      "Epoch 143/300\n",
      "66/66 [==============================] - 0s 5ms/step - loss: 37.9039 - mae: 38.3940 - val_loss: 33.0559 - val_mae: 33.5270\n",
      "Epoch 144/300\n",
      "66/66 [==============================] - 0s 5ms/step - loss: 35.7568 - mae: 36.2483 - val_loss: 33.1681 - val_mae: 33.6532\n",
      "Epoch 145/300\n",
      "66/66 [==============================] - 0s 6ms/step - loss: 40.0091 - mae: 40.4964 - val_loss: 33.3506 - val_mae: 33.8383\n",
      "Epoch 146/300\n",
      "66/66 [==============================] - 0s 6ms/step - loss: 36.8258 - mae: 37.3140 - val_loss: 33.5760 - val_mae: 34.0676\n",
      "Epoch 147/300\n",
      "66/66 [==============================] - 0s 6ms/step - loss: 36.6838 - mae: 37.1756 - val_loss: 33.4481 - val_mae: 33.9379\n",
      "Epoch 148/300\n",
      "66/66 [==============================] - 0s 6ms/step - loss: 34.4982 - mae: 34.9871 - val_loss: 33.6510 - val_mae: 34.1412\n",
      "Epoch 149/300\n",
      "66/66 [==============================] - 0s 5ms/step - loss: 38.9177 - mae: 39.4103 - val_loss: 33.0546 - val_mae: 33.5138\n",
      "Epoch 150/300\n",
      "66/66 [==============================] - 0s 5ms/step - loss: 36.0001 - mae: 36.4921 - val_loss: 33.0813 - val_mae: 33.5602\n",
      "Epoch 151/300\n",
      "66/66 [==============================] - 0s 5ms/step - loss: 36.4886 - mae: 36.9808 - val_loss: 33.0907 - val_mae: 33.5723\n",
      "Epoch 152/300\n",
      "66/66 [==============================] - 0s 6ms/step - loss: 36.6342 - mae: 37.1218 - val_loss: 33.4835 - val_mae: 33.9750\n",
      "Epoch 153/300\n",
      "66/66 [==============================] - 0s 6ms/step - loss: 36.4994 - mae: 36.9922 - val_loss: 33.5209 - val_mae: 34.0131\n",
      "Epoch 154/300\n",
      "66/66 [==============================] - 0s 6ms/step - loss: 35.4477 - mae: 35.9350 - val_loss: 33.4195 - val_mae: 33.9100\n",
      "Epoch 155/300\n",
      "66/66 [==============================] - 0s 5ms/step - loss: 38.6854 - mae: 39.1796 - val_loss: 32.9949 - val_mae: 33.4582\n",
      "Epoch 156/300\n",
      "66/66 [==============================] - 0s 5ms/step - loss: 35.2822 - mae: 35.7732 - val_loss: 33.4629 - val_mae: 33.9540\n",
      "Epoch 157/300\n",
      "66/66 [==============================] - 0s 6ms/step - loss: 36.9500 - mae: 37.4396 - val_loss: 33.1186 - val_mae: 33.6061\n",
      "Epoch 158/300\n",
      "66/66 [==============================] - 0s 6ms/step - loss: 36.4394 - mae: 36.9332 - val_loss: 33.1523 - val_mae: 33.6395\n",
      "Epoch 159/300\n",
      "66/66 [==============================] - 0s 5ms/step - loss: 40.2352 - mae: 40.7214 - val_loss: 33.1914 - val_mae: 33.6772\n",
      "Epoch 160/300\n",
      "66/66 [==============================] - 0s 5ms/step - loss: 35.0185 - mae: 35.5084 - val_loss: 32.9730 - val_mae: 33.4396\n",
      "Epoch 161/300\n",
      "66/66 [==============================] - 0s 5ms/step - loss: 36.7742 - mae: 37.2653 - val_loss: 32.9664 - val_mae: 33.4335\n",
      "Epoch 162/300\n",
      "66/66 [==============================] - 0s 5ms/step - loss: 35.0386 - mae: 35.5313 - val_loss: 33.2962 - val_mae: 33.7864\n",
      "Epoch 163/300\n",
      "66/66 [==============================] - 0s 5ms/step - loss: 36.5910 - mae: 37.0807 - val_loss: 33.5039 - val_mae: 33.9974\n",
      "Epoch 164/300\n",
      "66/66 [==============================] - 0s 6ms/step - loss: 37.8895 - mae: 38.3821 - val_loss: 33.1528 - val_mae: 33.6374\n",
      "Epoch 165/300\n",
      "66/66 [==============================] - 0s 6ms/step - loss: 35.3858 - mae: 35.8774 - val_loss: 33.0031 - val_mae: 33.4785\n",
      "Epoch 166/300\n",
      "66/66 [==============================] - 0s 5ms/step - loss: 37.0287 - mae: 37.5179 - val_loss: 32.9780 - val_mae: 33.4495\n",
      "Epoch 167/300\n",
      "66/66 [==============================] - 0s 5ms/step - loss: 34.4628 - mae: 34.9479 - val_loss: 32.9674 - val_mae: 33.4242\n",
      "Epoch 168/300\n",
      "66/66 [==============================] - 0s 6ms/step - loss: 34.2658 - mae: 34.7543 - val_loss: 32.9675 - val_mae: 33.4415\n",
      "Epoch 169/300\n",
      "66/66 [==============================] - 0s 6ms/step - loss: 37.1984 - mae: 37.6874 - val_loss: 32.9970 - val_mae: 33.4724\n",
      "Epoch 170/300\n",
      "66/66 [==============================] - 0s 6ms/step - loss: 38.8132 - mae: 39.3023 - val_loss: 32.9757 - val_mae: 33.4516\n",
      "Epoch 171/300\n",
      "66/66 [==============================] - 0s 5ms/step - loss: 40.3452 - mae: 40.8332 - val_loss: 33.3993 - val_mae: 33.8926\n",
      "Epoch 172/300\n",
      "66/66 [==============================] - 0s 6ms/step - loss: 37.3193 - mae: 37.8084 - val_loss: 33.0038 - val_mae: 33.4807\n",
      "Epoch 173/300\n",
      "66/66 [==============================] - 0s 6ms/step - loss: 37.6058 - mae: 38.0954 - val_loss: 33.0136 - val_mae: 33.4911\n",
      "Epoch 174/300\n",
      "66/66 [==============================] - 0s 5ms/step - loss: 35.9097 - mae: 36.3989 - val_loss: 32.9966 - val_mae: 33.4727\n",
      "Epoch 175/300\n",
      "66/66 [==============================] - 0s 5ms/step - loss: 36.9642 - mae: 37.4558 - val_loss: 32.9652 - val_mae: 33.4393\n",
      "Epoch 176/300\n",
      "66/66 [==============================] - 0s 5ms/step - loss: 33.6928 - mae: 34.1827 - val_loss: 33.2617 - val_mae: 33.7532\n",
      "Epoch 177/300\n",
      "66/66 [==============================] - 0s 6ms/step - loss: 38.5204 - mae: 39.0097 - val_loss: 33.1138 - val_mae: 33.5944\n",
      "Epoch 178/300\n",
      "66/66 [==============================] - 0s 6ms/step - loss: 39.9009 - mae: 40.3916 - val_loss: 33.9214 - val_mae: 34.4128\n",
      "Epoch 179/300\n",
      "66/66 [==============================] - 0s 5ms/step - loss: 41.3286 - mae: 41.8205 - val_loss: 33.0626 - val_mae: 33.5468\n",
      "Epoch 180/300\n",
      "66/66 [==============================] - 0s 6ms/step - loss: 36.6870 - mae: 37.1775 - val_loss: 32.9411 - val_mae: 33.3995\n"
     ]
    },
    {
     "name": "stdout",
     "output_type": "stream",
     "text": [
      "Epoch 181/300\n",
      "66/66 [==============================] - 0s 5ms/step - loss: 38.2728 - mae: 38.7652 - val_loss: 32.9273 - val_mae: 33.3909\n",
      "Epoch 182/300\n",
      "66/66 [==============================] - 0s 5ms/step - loss: 34.9332 - mae: 35.4214 - val_loss: 32.9913 - val_mae: 33.4697\n",
      "Epoch 183/300\n",
      "66/66 [==============================] - 0s 6ms/step - loss: 34.6878 - mae: 35.1788 - val_loss: 33.3659 - val_mae: 33.8456\n",
      "Epoch 184/300\n",
      "66/66 [==============================] - 0s 6ms/step - loss: 34.2036 - mae: 34.6921 - val_loss: 32.9179 - val_mae: 33.3824\n",
      "Epoch 185/300\n",
      "66/66 [==============================] - 0s 5ms/step - loss: 37.7545 - mae: 38.2450 - val_loss: 32.9371 - val_mae: 33.4033\n",
      "Epoch 186/300\n",
      "66/66 [==============================] - 0s 5ms/step - loss: 37.5185 - mae: 38.0059 - val_loss: 32.9439 - val_mae: 33.4032\n",
      "Epoch 187/300\n",
      "66/66 [==============================] - 0s 6ms/step - loss: 36.8358 - mae: 37.3263 - val_loss: 33.1331 - val_mae: 33.6206\n",
      "Epoch 188/300\n",
      "66/66 [==============================] - 0s 6ms/step - loss: 38.3754 - mae: 38.8681 - val_loss: 32.9666 - val_mae: 33.4408\n",
      "Epoch 189/300\n",
      "66/66 [==============================] - 0s 6ms/step - loss: 36.4397 - mae: 36.9297 - val_loss: 32.8999 - val_mae: 33.3586\n",
      "Epoch 190/300\n",
      "66/66 [==============================] - 0s 6ms/step - loss: 34.9494 - mae: 35.4424 - val_loss: 32.9838 - val_mae: 33.4609\n",
      "Epoch 191/300\n",
      "66/66 [==============================] - 0s 5ms/step - loss: 36.5625 - mae: 37.0522 - val_loss: 32.9034 - val_mae: 33.3614\n",
      "Epoch 192/300\n",
      "66/66 [==============================] - 0s 6ms/step - loss: 37.5936 - mae: 38.0817 - val_loss: 33.0293 - val_mae: 33.5124\n",
      "Epoch 193/300\n",
      "66/66 [==============================] - 0s 6ms/step - loss: 35.1875 - mae: 35.6737 - val_loss: 32.9414 - val_mae: 33.4018\n",
      "Epoch 194/300\n",
      "66/66 [==============================] - 0s 6ms/step - loss: 38.0545 - mae: 38.5394 - val_loss: 32.9422 - val_mae: 33.4157\n",
      "Epoch 195/300\n",
      "66/66 [==============================] - 0s 6ms/step - loss: 37.4374 - mae: 37.9246 - val_loss: 33.6715 - val_mae: 34.1656\n",
      "Epoch 196/300\n",
      "66/66 [==============================] - 0s 6ms/step - loss: 38.7826 - mae: 39.2753 - val_loss: 34.3076 - val_mae: 34.8010\n",
      "Epoch 197/300\n",
      "66/66 [==============================] - 0s 5ms/step - loss: 39.7723 - mae: 40.2646 - val_loss: 33.2176 - val_mae: 33.7088\n",
      "Epoch 198/300\n",
      "66/66 [==============================] - 0s 6ms/step - loss: 35.8727 - mae: 36.3628 - val_loss: 32.9785 - val_mae: 33.4428\n",
      "Epoch 199/300\n",
      "66/66 [==============================] - 0s 6ms/step - loss: 38.6770 - mae: 39.1687 - val_loss: 32.9531 - val_mae: 33.4138\n",
      "Epoch 200/300\n",
      "66/66 [==============================] - 0s 6ms/step - loss: 35.6981 - mae: 36.1904 - val_loss: 33.1886 - val_mae: 33.6775\n",
      "Epoch 201/300\n",
      "66/66 [==============================] - 0s 6ms/step - loss: 36.5288 - mae: 37.0210 - val_loss: 33.1670 - val_mae: 33.6560\n",
      "Epoch 202/300\n",
      "66/66 [==============================] - 0s 6ms/step - loss: 37.9734 - mae: 38.4597 - val_loss: 33.2240 - val_mae: 33.7158\n",
      "Epoch 203/300\n",
      "66/66 [==============================] - 0s 5ms/step - loss: 36.9360 - mae: 37.4265 - val_loss: 33.1112 - val_mae: 33.5996\n",
      "Epoch 204/300\n",
      "66/66 [==============================] - 0s 6ms/step - loss: 36.7544 - mae: 37.2429 - val_loss: 33.1109 - val_mae: 33.6007\n",
      "Epoch 205/300\n",
      "66/66 [==============================] - 0s 5ms/step - loss: 37.0028 - mae: 37.4916 - val_loss: 33.0564 - val_mae: 33.5437\n",
      "Epoch 206/300\n",
      "66/66 [==============================] - 0s 5ms/step - loss: 35.2263 - mae: 35.7156 - val_loss: 32.8753 - val_mae: 33.3330\n",
      "Epoch 207/300\n",
      "66/66 [==============================] - 0s 5ms/step - loss: 37.5140 - mae: 38.0067 - val_loss: 33.8150 - val_mae: 34.3110\n",
      "Epoch 208/300\n",
      "66/66 [==============================] - 0s 6ms/step - loss: 38.8904 - mae: 39.3819 - val_loss: 33.5487 - val_mae: 34.0413\n",
      "Epoch 209/300\n",
      "66/66 [==============================] - 0s 5ms/step - loss: 37.3894 - mae: 37.8802 - val_loss: 33.2509 - val_mae: 33.7420\n",
      "Epoch 210/300\n",
      "66/66 [==============================] - 0s 6ms/step - loss: 39.4618 - mae: 39.9532 - val_loss: 33.2210 - val_mae: 33.7097\n",
      "Epoch 211/300\n",
      "66/66 [==============================] - 0s 5ms/step - loss: 36.8147 - mae: 37.3022 - val_loss: 33.6684 - val_mae: 34.1637\n",
      "Epoch 212/300\n",
      "66/66 [==============================] - 0s 5ms/step - loss: 35.2070 - mae: 35.6981 - val_loss: 33.3275 - val_mae: 33.8209\n",
      "Epoch 213/300\n",
      "66/66 [==============================] - 0s 6ms/step - loss: 38.7588 - mae: 39.2491 - val_loss: 32.9274 - val_mae: 33.3868\n",
      "Epoch 214/300\n",
      "66/66 [==============================] - 0s 5ms/step - loss: 36.1858 - mae: 36.6754 - val_loss: 32.8665 - val_mae: 33.3239\n",
      "Epoch 215/300\n",
      "66/66 [==============================] - 0s 6ms/step - loss: 36.7987 - mae: 37.2887 - val_loss: 32.9236 - val_mae: 33.4005\n",
      "Epoch 216/300\n",
      "66/66 [==============================] - 0s 5ms/step - loss: 37.4774 - mae: 37.9665 - val_loss: 33.1139 - val_mae: 33.6014\n",
      "Epoch 217/300\n",
      "66/66 [==============================] - 0s 6ms/step - loss: 39.2918 - mae: 39.7794 - val_loss: 32.8901 - val_mae: 33.3457\n",
      "Epoch 218/300\n",
      "66/66 [==============================] - 0s 5ms/step - loss: 38.9044 - mae: 39.3941 - val_loss: 33.7222 - val_mae: 34.2164\n",
      "Epoch 219/300\n",
      "66/66 [==============================] - 0s 5ms/step - loss: 37.2110 - mae: 37.7019 - val_loss: 33.4739 - val_mae: 33.9689\n",
      "Epoch 220/300\n",
      "66/66 [==============================] - 0s 5ms/step - loss: 38.0075 - mae: 38.4969 - val_loss: 32.9488 - val_mae: 33.4138\n",
      "Epoch 221/300\n",
      "66/66 [==============================] - 0s 6ms/step - loss: 41.3282 - mae: 41.8184 - val_loss: 34.0770 - val_mae: 34.5684\n",
      "Epoch 222/300\n",
      "66/66 [==============================] - 0s 6ms/step - loss: 37.9384 - mae: 38.4310 - val_loss: 32.8625 - val_mae: 33.3137\n",
      "Epoch 223/300\n",
      "66/66 [==============================] - 0s 6ms/step - loss: 35.7253 - mae: 36.2154 - val_loss: 33.5949 - val_mae: 34.0882\n",
      "Epoch 224/300\n",
      "66/66 [==============================] - 0s 5ms/step - loss: 38.7582 - mae: 39.2463 - val_loss: 33.0224 - val_mae: 33.4982\n",
      "Epoch 225/300\n",
      "66/66 [==============================] - 0s 5ms/step - loss: 36.1421 - mae: 36.6331 - val_loss: 33.8049 - val_mae: 34.3010\n",
      "Epoch 226/300\n",
      "66/66 [==============================] - 0s 5ms/step - loss: 35.8359 - mae: 36.3269 - val_loss: 33.2100 - val_mae: 33.6989\n",
      "Epoch 227/300\n",
      "66/66 [==============================] - 0s 6ms/step - loss: 38.9005 - mae: 39.3884 - val_loss: 33.3910 - val_mae: 33.8859\n",
      "Epoch 228/300\n",
      "66/66 [==============================] - 0s 5ms/step - loss: 35.3659 - mae: 35.8577 - val_loss: 32.8651 - val_mae: 33.3204\n",
      "Epoch 229/300\n",
      "66/66 [==============================] - ETA: 0s - loss: 34.4680 - mae: 34.957 - 0s 5ms/step - loss: 34.7477 - mae: 35.2371 - val_loss: 32.9242 - val_mae: 33.3987\n",
      "Epoch 230/300\n",
      "66/66 [==============================] - 0s 5ms/step - loss: 35.5052 - mae: 35.9931 - val_loss: 32.9055 - val_mae: 33.3772\n",
      "Epoch 231/300\n",
      "66/66 [==============================] - 0s 6ms/step - loss: 37.5359 - mae: 38.0297 - val_loss: 32.8662 - val_mae: 33.3170\n",
      "Epoch 232/300\n",
      "66/66 [==============================] - 0s 6ms/step - loss: 35.4773 - mae: 35.9666 - val_loss: 33.8663 - val_mae: 34.3625\n",
      "Epoch 233/300\n",
      "66/66 [==============================] - 0s 5ms/step - loss: 40.1204 - mae: 40.6143 - val_loss: 32.9060 - val_mae: 33.3617\n",
      "Epoch 234/300\n",
      "66/66 [==============================] - 0s 6ms/step - loss: 37.1916 - mae: 37.6849 - val_loss: 33.0998 - val_mae: 33.5912\n",
      "Epoch 235/300\n",
      "66/66 [==============================] - 0s 5ms/step - loss: 37.4304 - mae: 37.9168 - val_loss: 33.3451 - val_mae: 33.8393\n",
      "Epoch 236/300\n",
      "66/66 [==============================] - 0s 5ms/step - loss: 37.3542 - mae: 37.8437 - val_loss: 33.2020 - val_mae: 33.6909\n",
      "Epoch 237/300\n",
      "66/66 [==============================] - 0s 5ms/step - loss: 39.0368 - mae: 39.5243 - val_loss: 33.6026 - val_mae: 34.0953\n",
      "Epoch 238/300\n",
      "66/66 [==============================] - 0s 6ms/step - loss: 37.8000 - mae: 38.2882 - val_loss: 33.2240 - val_mae: 33.7140\n",
      "Epoch 239/300\n",
      "66/66 [==============================] - 0s 6ms/step - loss: 34.8377 - mae: 35.3253 - val_loss: 33.5790 - val_mae: 34.0719\n",
      "Epoch 240/300\n"
     ]
    },
    {
     "name": "stdout",
     "output_type": "stream",
     "text": [
      "66/66 [==============================] - 0s 5ms/step - loss: 36.5860 - mae: 37.0769 - val_loss: 33.0418 - val_mae: 33.5320\n",
      "Epoch 241/300\n",
      "66/66 [==============================] - 0s 5ms/step - loss: 35.8984 - mae: 36.3918 - val_loss: 33.0589 - val_mae: 33.5484\n",
      "Epoch 242/300\n",
      "66/66 [==============================] - 0s 5ms/step - loss: 34.8273 - mae: 35.3185 - val_loss: 32.8493 - val_mae: 33.3152\n",
      "Epoch 243/300\n",
      "66/66 [==============================] - 0s 5ms/step - loss: 35.7215 - mae: 36.2065 - val_loss: 33.5812 - val_mae: 34.0731\n",
      "Epoch 244/300\n",
      "66/66 [==============================] - 0s 5ms/step - loss: 37.0217 - mae: 37.5107 - val_loss: 33.0280 - val_mae: 33.5162\n",
      "Epoch 245/300\n",
      "66/66 [==============================] - 0s 5ms/step - loss: 38.0093 - mae: 38.5008 - val_loss: 32.8723 - val_mae: 33.3229\n",
      "Epoch 246/300\n",
      "66/66 [==============================] - 0s 5ms/step - loss: 34.3719 - mae: 34.8597 - val_loss: 33.1258 - val_mae: 33.6161\n",
      "Epoch 247/300\n",
      "66/66 [==============================] - 0s 6ms/step - loss: 38.5377 - mae: 39.0254 - val_loss: 33.0075 - val_mae: 33.4934\n",
      "Epoch 248/300\n",
      "66/66 [==============================] - 0s 6ms/step - loss: 36.4587 - mae: 36.9453 - val_loss: 32.8843 - val_mae: 33.3356\n",
      "Epoch 249/300\n",
      "66/66 [==============================] - 0s 5ms/step - loss: 35.9805 - mae: 36.4706 - val_loss: 32.8628 - val_mae: 33.3128\n",
      "Epoch 250/300\n",
      "66/66 [==============================] - 0s 5ms/step - loss: 39.5254 - mae: 40.0174 - val_loss: 33.0989 - val_mae: 33.5887\n",
      "Epoch 251/300\n",
      "66/66 [==============================] - 0s 5ms/step - loss: 37.1699 - mae: 37.6604 - val_loss: 32.8722 - val_mae: 33.3384\n",
      "Epoch 252/300\n",
      "66/66 [==============================] - 0s 6ms/step - loss: 42.1176 - mae: 42.6036 - val_loss: 32.8760 - val_mae: 33.3248\n",
      "Epoch 253/300\n",
      "66/66 [==============================] - 0s 6ms/step - loss: 38.3399 - mae: 38.8301 - val_loss: 33.7826 - val_mae: 34.2784\n",
      "Epoch 254/300\n",
      "66/66 [==============================] - 0s 6ms/step - loss: 36.2309 - mae: 36.7203 - val_loss: 33.3771 - val_mae: 33.8712\n",
      "Epoch 255/300\n",
      "66/66 [==============================] - 0s 6ms/step - loss: 35.1536 - mae: 35.6462 - val_loss: 32.8773 - val_mae: 33.3269\n",
      "Epoch 256/300\n",
      "66/66 [==============================] - 0s 5ms/step - loss: 43.6972 - mae: 44.1904 - val_loss: 33.1678 - val_mae: 33.6572\n",
      "Epoch 257/300\n",
      "66/66 [==============================] - 0s 6ms/step - loss: 38.1504 - mae: 38.6391 - val_loss: 32.8539 - val_mae: 33.3050\n",
      "Epoch 258/300\n",
      "66/66 [==============================] - 0s 5ms/step - loss: 35.1024 - mae: 35.5932 - val_loss: 33.0129 - val_mae: 33.4990\n",
      "Epoch 259/300\n",
      "66/66 [==============================] - 0s 5ms/step - loss: 33.3210 - mae: 33.8120 - val_loss: 33.1793 - val_mae: 33.6682\n",
      "Epoch 260/300\n",
      "66/66 [==============================] - 0s 5ms/step - loss: 37.2618 - mae: 37.7521 - val_loss: 32.9186 - val_mae: 33.3977\n",
      "Epoch 261/300\n",
      "66/66 [==============================] - 0s 5ms/step - loss: 36.0774 - mae: 36.5646 - val_loss: 32.9169 - val_mae: 33.3977\n",
      "Epoch 262/300\n",
      "66/66 [==============================] - 0s 6ms/step - loss: 37.4287 - mae: 37.9195 - val_loss: 33.3908 - val_mae: 33.8870\n",
      "Epoch 263/300\n",
      "66/66 [==============================] - 0s 5ms/step - loss: 39.5002 - mae: 39.9915 - val_loss: 33.3682 - val_mae: 33.8636\n",
      "Epoch 264/300\n",
      "66/66 [==============================] - 0s 5ms/step - loss: 35.7366 - mae: 36.2251 - val_loss: 33.2394 - val_mae: 33.7285\n",
      "Epoch 265/300\n",
      "66/66 [==============================] - 0s 6ms/step - loss: 36.3141 - mae: 36.8074 - val_loss: 32.8497 - val_mae: 33.3028\n",
      "Epoch 266/300\n",
      "66/66 [==============================] - 0s 6ms/step - loss: 38.1808 - mae: 38.6737 - val_loss: 33.6952 - val_mae: 34.1886\n",
      "Epoch 267/300\n",
      "66/66 [==============================] - 0s 5ms/step - loss: 34.3372 - mae: 34.8264 - val_loss: 33.1223 - val_mae: 33.6114\n",
      "Epoch 268/300\n",
      "66/66 [==============================] - 0s 6ms/step - loss: 37.3237 - mae: 37.8129 - val_loss: 32.8731 - val_mae: 33.3228\n",
      "Epoch 269/300\n",
      "66/66 [==============================] - 0s 5ms/step - loss: 36.5541 - mae: 37.0433 - val_loss: 32.9946 - val_mae: 33.4809\n",
      "Epoch 270/300\n",
      "66/66 [==============================] - 0s 5ms/step - loss: 35.8456 - mae: 36.3375 - val_loss: 33.1031 - val_mae: 33.5925\n",
      "Epoch 271/300\n",
      "66/66 [==============================] - 0s 5ms/step - loss: 38.2196 - mae: 38.7086 - val_loss: 33.1760 - val_mae: 33.6649\n",
      "Epoch 272/300\n",
      "66/66 [==============================] - 0s 6ms/step - loss: 39.0007 - mae: 39.4951 - val_loss: 32.8902 - val_mae: 33.3603\n",
      "Epoch 273/300\n",
      "66/66 [==============================] - 0s 5ms/step - loss: 38.6077 - mae: 39.0969 - val_loss: 33.3859 - val_mae: 33.8794\n",
      "Epoch 274/300\n",
      "66/66 [==============================] - 0s 5ms/step - loss: 37.5477 - mae: 38.0374 - val_loss: 32.8773 - val_mae: 33.3257\n",
      "Epoch 275/300\n",
      "66/66 [==============================] - 0s 5ms/step - loss: 36.8227 - mae: 37.3094 - val_loss: 32.9757 - val_mae: 33.4626\n",
      "Epoch 276/300\n",
      "66/66 [==============================] - 0s 5ms/step - loss: 35.3757 - mae: 35.8671 - val_loss: 32.9933 - val_mae: 33.4578\n",
      "Epoch 277/300\n",
      "66/66 [==============================] - 0s 5ms/step - loss: 35.1547 - mae: 35.6475 - val_loss: 32.8998 - val_mae: 33.3628\n",
      "Epoch 278/300\n",
      "66/66 [==============================] - 0s 5ms/step - loss: 34.4346 - mae: 34.9255 - val_loss: 33.5789 - val_mae: 34.0747\n",
      "Epoch 279/300\n",
      "66/66 [==============================] - 0s 5ms/step - loss: 35.1943 - mae: 35.6827 - val_loss: 33.3826 - val_mae: 33.8744\n",
      "Epoch 280/300\n",
      "66/66 [==============================] - 0s 5ms/step - loss: 34.7039 - mae: 35.1983 - val_loss: 33.1577 - val_mae: 33.6397\n",
      "Epoch 281/300\n",
      "66/66 [==============================] - 0s 5ms/step - loss: 34.2985 - mae: 34.7877 - val_loss: 33.7148 - val_mae: 34.2086\n",
      "Epoch 282/300\n",
      "66/66 [==============================] - 0s 5ms/step - loss: 37.6758 - mae: 38.1615 - val_loss: 33.4807 - val_mae: 33.9760\n",
      "Epoch 283/300\n",
      "66/66 [==============================] - 0s 6ms/step - loss: 39.1848 - mae: 39.6744 - val_loss: 32.9407 - val_mae: 33.4279\n",
      "Epoch 284/300\n",
      "66/66 [==============================] - 0s 6ms/step - loss: 35.2689 - mae: 35.7553 - val_loss: 32.9155 - val_mae: 33.3971\n",
      "Epoch 285/300\n",
      "66/66 [==============================] - 0s 5ms/step - loss: 34.5766 - mae: 35.0658 - val_loss: 32.9049 - val_mae: 33.3859\n",
      "Epoch 286/300\n",
      "66/66 [==============================] - 0s 5ms/step - loss: 37.0897 - mae: 37.5820 - val_loss: 33.4295 - val_mae: 33.9242\n",
      "Epoch 287/300\n",
      "66/66 [==============================] - 0s 6ms/step - loss: 35.2471 - mae: 35.7322 - val_loss: 33.5128 - val_mae: 34.0073\n",
      "Epoch 288/300\n",
      "66/66 [==============================] - 0s 6ms/step - loss: 36.3923 - mae: 36.8804 - val_loss: 32.9511 - val_mae: 33.4392\n",
      "Epoch 289/300\n",
      "66/66 [==============================] - 0s 6ms/step - loss: 35.2533 - mae: 35.7445 - val_loss: 32.8775 - val_mae: 33.3249\n",
      "Epoch 290/300\n",
      "66/66 [==============================] - 0s 6ms/step - loss: 36.1890 - mae: 36.6799 - val_loss: 33.1707 - val_mae: 33.6586\n",
      "Epoch 291/300\n",
      "66/66 [==============================] - 0s 6ms/step - loss: 36.5091 - mae: 37.0006 - val_loss: 33.4093 - val_mae: 33.9052\n",
      "Epoch 292/300\n",
      "66/66 [==============================] - 0s 5ms/step - loss: 37.1986 - mae: 37.6919 - val_loss: 32.8620 - val_mae: 33.3172\n",
      "Epoch 293/300\n",
      "66/66 [==============================] - 0s 5ms/step - loss: 37.0791 - mae: 37.5660 - val_loss: 32.9111 - val_mae: 33.3599\n",
      "Epoch 294/300\n",
      "66/66 [==============================] - 0s 5ms/step - loss: 35.7101 - mae: 36.1969 - val_loss: 33.3360 - val_mae: 33.8315\n",
      "Epoch 295/300\n",
      "66/66 [==============================] - 0s 5ms/step - loss: 39.1538 - mae: 39.6477 - val_loss: 33.0669 - val_mae: 33.5520\n",
      "Epoch 296/300\n",
      "66/66 [==============================] - 0s 5ms/step - loss: 38.7471 - mae: 39.2369 - val_loss: 32.9890 - val_mae: 33.4714\n",
      "Epoch 297/300\n",
      "66/66 [==============================] - 0s 5ms/step - loss: 34.7183 - mae: 35.2113 - val_loss: 33.0351 - val_mae: 33.5183\n",
      "Epoch 298/300\n",
      "66/66 [==============================] - 0s 5ms/step - loss: 38.6192 - mae: 39.1097 - val_loss: 33.1124 - val_mae: 33.5992\n",
      "Epoch 299/300\n",
      "66/66 [==============================] - 0s 6ms/step - loss: 40.4611 - mae: 40.9504 - val_loss: 33.1456 - val_mae: 33.6322\n"
     ]
    },
    {
     "name": "stdout",
     "output_type": "stream",
     "text": [
      "Epoch 300/300\n",
      "66/66 [==============================] - 0s 6ms/step - loss: 36.8389 - mae: 37.3281 - val_loss: 32.9428 - val_mae: 33.4295\n"
     ]
    }
   ],
   "source": [
    "batch_size = 20\n",
    "history = model.fit(train_features, train_label, epochs=300, validation_split=0.1, batch_size=batch_size)"
   ]
  },
  {
   "cell_type": "code",
   "execution_count": 13,
   "metadata": {},
   "outputs": [
    {
     "data": {
      "image/png": "[encoded data removed]",
      "text/plain": [
       "<Figure size 432x288 with 1 Axes>"
      ]
     },
     "metadata": {
      "needs_background": "light"
     },
     "output_type": "display_data"
    }
   ],
   "source": [
    "import matplotlib.pyplot as plt\n",
    "\n",
    "mae = history.history['mae']\n",
    "loss = history.history['loss']\n",
    "val_mae = history.history['val_mae']\n",
    "val_loss = history.history['val_loss']\n",
    "epochs = range(len(mae))\n",
    "\n",
    "# Plot loss & validation loss\n",
    "plt.figure()\n",
    "plt.plot(epochs, loss, '--b')\n",
    "plt.plot(epochs, val_loss, '-r')\n",
    "plt.xlabel(\"Epochs\")\n",
    "plt.legend([\"loss\", \"val_loss\"])\n",
    "plt.show()"
   ]
  },
  {
   "cell_type": "code",
   "execution_count": 14,
   "metadata": {},
   "outputs": [
    {
     "data": {
      "image/png": "[encoded data removed]",
      "text/plain": [
       "<Figure size 432x288 with 1 Axes>"
      ]
     },
     "metadata": {
      "needs_background": "light"
     },
     "output_type": "display_data"
    }
   ],
   "source": [
    "# Plot mae & validation mae\n",
    "plt.figure()\n",
    "plt.plot(epochs, mae, '--b')\n",
    "plt.plot(epochs, val_mae, '-r')\n",
    "plt.xlabel(\"Epochs\")\n",
    "plt.legend([\"mae\", \"val_mae\"])\n",
    "plt.show()"
   ]
  },
  {
   "cell_type": "markdown",
   "metadata": {},
   "source": [
    "# Testing"
   ]
  },
  {
   "cell_type": "code",
   "execution_count": 15,
   "metadata": {},
   "outputs": [],
   "source": [
    "prediction = model.predict(test_features[0:2])"
   ]
  },
  {
   "cell_type": "code",
   "execution_count": 16,
   "metadata": {},
   "outputs": [
    {
     "data": {
      "text/plain": [
       "array([[88.29331],\n",
       "       [91.16641]], dtype=float32)"
      ]
     },
     "execution_count": 16,
     "metadata": {},
     "output_type": "execute_result"
    }
   ],
   "source": [
    "prediction"
   ]
  },
  {
   "cell_type": "code",
   "execution_count": 17,
   "metadata": {},
   "outputs": [
    {
     "name": "stdout",
     "output_type": "stream",
     "text": [
      "MSE =  [95.11947 90.69411]\n",
      "MAE =  [9.5 9.5]\n"
     ]
    }
   ],
   "source": [
    "mse = tf.keras.metrics.mean_squared_error(test_label[0:2], prediction).numpy()\n",
    "mae = tf.keras.metrics.mean_absolute_error(test_label[0:2], prediction).numpy()\n",
    "\n",
    "\n",
    "print('MSE = ', mse)\n",
    "print('MAE = ', mae)"
   ]
  },
  {
   "cell_type": "code",
   "execution_count": 18,
   "metadata": {},
   "outputs": [],
   "source": [
    "prediction = model.predict(train_features)"
   ]
  },
  {
   "cell_type": "code",
   "execution_count": 19,
   "metadata": {},
   "outputs": [],
   "source": [
    "index = range(len(prediction))"
   ]
  },
  {
   "cell_type": "code",
   "execution_count": 20,
   "metadata": {},
   "outputs": [
    {
     "data": {
      "image/png": "[encoded data removed]",
      "text/plain": [
       "<Figure size 432x288 with 1 Axes>"
      ]
     },
     "metadata": {
      "needs_background": "light"
     },
     "output_type": "display_data"
    }
   ],
   "source": [
    "plt.figure()\n",
    "plt.plot(index, train_label, 'ob')\n",
    "plt.plot(index, prediction, '-r')\n",
    "plt.legend([\"Training\", \"Prediction\"])\n",
    "plt.ylabel(\"river_level_max_tomorrow\")\n",
    "plt.show()"
   ]
  },
  {
   "cell_type": "code",
   "execution_count": 21,
   "metadata": {},
   "outputs": [],
   "source": [
    "prediction = model.predict(test_features)\n",
    "index = range(len(prediction))"
   ]
  },
  {
   "cell_type": "code",
   "execution_count": 22,
   "metadata": {},
   "outputs": [
    {
     "data": {
      "image/png": "[encoded data removed]",
      "text/plain": [
       "<Figure size 432x288 with 1 Axes>"
      ]
     },
     "metadata": {
      "needs_background": "light"
     },
     "output_type": "display_data"
    }
   ],
   "source": [
    "plt.figure()\n",
    "plt.plot(index, test_label, 'ob')\n",
    "plt.plot(index, prediction, '-r')\n",
    "plt.legend([\"Testing\", \"Prediction\"])\n",
    "plt.ylabel(\"river_level_max_tomorrow\")\n",
    "plt.show()"
   ]
  },
  {
   "cell_type": "markdown",
   "metadata": {},
   "source": [
    "# Generate a saved model"
   ]
  },
  {
   "cell_type": "code",
   "execution_count": 23,
   "metadata": {},
   "outputs": [
    {
     "name": "stdout",
     "output_type": "stream",
     "text": [
      "INFO:tensorflow:Assets written to: save_final_model/assets\n"
     ]
    }
   ],
   "source": [
    "export_dir = 'save_final_model/'\n",
    "tf.saved_model.save(model, export_dir)"
   ]
  },
  {
   "cell_type": "code",
   "execution_count": 24,
   "metadata": {},
   "outputs": [],
   "source": [
    "#model.save(\"final_model.h5\")"
   ]
  },
  {
   "cell_type": "markdown",
   "metadata": {},
   "source": [
    "# Convert the saved model to TFLite"
   ]
  },
  {
   "cell_type": "code",
   "execution_count": 25,
   "metadata": {},
   "outputs": [],
   "source": [
    "converter = tf.lite.TFLiteConverter.from_saved_model(export_dir)\n",
    "tflite_model = converter.convert()"
   ]
  },
  {
   "cell_type": "code",
   "execution_count": 26,
   "metadata": {},
   "outputs": [
    {
     "data": {
      "text/plain": [
       "13056"
      ]
     },
     "execution_count": 26,
     "metadata": {},
     "output_type": "execute_result"
    }
   ],
   "source": [
    "import pathlib\n",
    "tflite_model_file = pathlib.Path('final_model.tflite')\n",
    "tflite_model_file.write_bytes(tflite_model)"
   ]
  },
  {
   "cell_type": "code",
   "execution_count": null,
   "metadata": {},
   "outputs": [],
   "source": []
  }
 ],
 "metadata": {
  "hide_input": false,
  "kernelspec": {
   "display_name": "Python 3",
   "language": "python",
   "name": "python3"
  },
  "language_info": {
   "codemirror_mode": {
    "name": "ipython",
    "version": 3
   },
   "file_extension": ".py",
   "mimetype": "text/x-python",
   "name": "python",
   "nbconvert_exporter": "python",
   "pygments_lexer": "ipython3",
   "version": "3.8.5"
  },
  "nbTranslate": {
   "displayLangs": [
    "*"
   ],
   "hotkey": "alt-t",
   "langInMainMenu": true,
   "sourceLang": "en",
   "targetLang": "fr",
   "useGoogleTranslate": true
  },
  "toc": {
   "base_numbering": 1,
   "nav_menu": {},
   "number_sections": true,
   "sideBar": true,
   "skip_h1_title": false,
   "title_cell": "Table of Contents",
   "title_sidebar": "Contents",
   "toc_cell": false,
   "toc_position": {},
   "toc_section_display": true,
   "toc_window_display": false
  },
  "varInspector": {
   "cols": {
    "lenName": 16,
    "lenType": 16,
    "lenVar": 40
   },
   "kernels_config": {
    "python": {
     "delete_cmd_postfix": "",
     "delete_cmd_prefix": "del ",
     "library": "var_list.py",
     "varRefreshCmd": "print(var_dic_list())"
    },
    "r": {
     "delete_cmd_postfix": ") ",
     "delete_cmd_prefix": "rm(",
     "library": "var_list.r",
     "varRefreshCmd": "cat(var_dic_list()) "
    }
   },
   "types_to_exclude": [
    "module",
    "function",
    "builtin_function_or_method",
    "instance",
    "_Feature"
   ],
   "window_display": false
  }
 },
 "nbformat": 4,
 "nbformat_minor": 4
}
